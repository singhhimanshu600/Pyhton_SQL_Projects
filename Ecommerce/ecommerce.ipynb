{
 "cells": [
  {
   "cell_type": "code",
   "execution_count": 2,
   "id": "d31a3249-e017-445b-9006-891eec087068",
   "metadata": {},
   "outputs": [
    {
     "name": "stdout",
     "output_type": "stream",
     "text": [
      "Collecting mysql-connector-python\n",
      "  Downloading mysql_connector_python-9.2.0-cp312-cp312-win_amd64.whl.metadata (6.2 kB)\n",
      "Downloading mysql_connector_python-9.2.0-cp312-cp312-win_amd64.whl (16.1 MB)\n",
      "   ---------------------------------------- 0.0/16.1 MB ? eta -:--:--\n",
      "   ----- ---------------------------------- 2.1/16.1 MB 11.8 MB/s eta 0:00:02\n",
      "   ------------- -------------------------- 5.2/16.1 MB 13.9 MB/s eta 0:00:01\n",
      "   -------------------- ------------------- 8.4/16.1 MB 14.1 MB/s eta 0:00:01\n",
      "   ---------------------------- ----------- 11.3/16.1 MB 14.1 MB/s eta 0:00:01\n",
      "   --------------------------------- ------ 13.4/16.1 MB 14.2 MB/s eta 0:00:01\n",
      "   ---------------------------------------- 16.1/16.1 MB 13.5 MB/s eta 0:00:00\n",
      "Installing collected packages: mysql-connector-python\n",
      "Successfully installed mysql-connector-python-9.2.0\n",
      "Note: you may need to restart the kernel to use updated packages.\n"
     ]
    }
   ],
   "source": [
    "pip install mysql-connector-python"
   ]
  },
  {
   "cell_type": "code",
   "execution_count": 18,
   "id": "3be27b6d-19b5-4150-a704-02be50f1789d",
   "metadata": {},
   "outputs": [],
   "source": [
    "import matplotlib.pyplot as plt\n",
    "import seaborn as sns"
   ]
  },
  {
   "cell_type": "code",
   "execution_count": 37,
   "id": "57f4bf6a-c0d9-4515-9f4c-a970ba5d4236",
   "metadata": {},
   "outputs": [
    {
     "name": "stdout",
     "output_type": "stream",
     "text": [
      "Processing customers.csv\n",
      "NaN values before replacement:\n",
      "customer_id                 0\n",
      "customer_unique_id          0\n",
      "customer_zip_code_prefix    0\n",
      "customer_city               0\n",
      "customer_state              0\n",
      "dtype: int64\n",
      "\n",
      "Processing orders.csv\n",
      "NaN values before replacement:\n",
      "order_id                            0\n",
      "customer_id                         0\n",
      "order_status                        0\n",
      "order_purchase_timestamp            0\n",
      "order_approved_at                 160\n",
      "order_delivered_carrier_date     1783\n",
      "order_delivered_customer_date    2965\n",
      "order_estimated_delivery_date       0\n",
      "dtype: int64\n",
      "\n",
      "Processing sellers.csv\n",
      "NaN values before replacement:\n",
      "seller_id                 0\n",
      "seller_zip_code_prefix    0\n",
      "seller_city               0\n",
      "seller_state              0\n",
      "dtype: int64\n",
      "\n",
      "Processing products.csv\n",
      "NaN values before replacement:\n",
      "product_id                      0\n",
      "product category              610\n",
      "product_name_length           610\n",
      "product_description_length    610\n",
      "product_photos_qty            610\n",
      "product_weight_g                2\n",
      "product_length_cm               2\n",
      "product_height_cm               2\n",
      "product_width_cm                2\n",
      "dtype: int64\n",
      "\n",
      "Processing geolocation.csv\n",
      "NaN values before replacement:\n",
      "geolocation_zip_code_prefix    0\n",
      "geolocation_lat                0\n",
      "geolocation_lng                0\n",
      "geolocation_city               0\n",
      "geolocation_state              0\n",
      "dtype: int64\n",
      "\n",
      "Processing order_items.csv\n",
      "NaN values before replacement:\n",
      "order_id               0\n",
      "order_item_id          0\n",
      "product_id             0\n",
      "seller_id              0\n",
      "shipping_limit_date    0\n",
      "price                  0\n",
      "freight_value          0\n",
      "dtype: int64\n",
      "\n",
      "Processing payments.csv\n",
      "NaN values before replacement:\n",
      "order_id                0\n",
      "payment_sequential      0\n",
      "payment_type            0\n",
      "payment_installments    0\n",
      "payment_value           0\n",
      "dtype: int64\n",
      "\n"
     ]
    }
   ],
   "source": [
    "import pandas as pd\n",
    "import mysql.connector\n",
    "import os\n",
    "\n",
    "# List of CSV files and their corresponding table names\n",
    "csv_files = [\n",
    "    ('customers.csv', 'customers'),\n",
    "    ('orders.csv', 'orders'),\n",
    "    ('sellers.csv', 'sellers'),\n",
    "    ('products.csv', 'products'),\n",
    "    ('geolocation.csv', 'geolocation'),\n",
    "    ('order_items.csv', 'order_items'),\n",
    "    ('payments.csv', 'payments')  # Added payments.csv for specific handling\n",
    "]\n",
    "\n",
    "# Connect to the MySQL database\n",
    "conn = mysql.connector.connect(\n",
    "    host='localhost',\n",
    "    user='root',\n",
    "    password='Ansshi@1432',\n",
    "    database='ECOMMERCE'\n",
    ")\n",
    "cursor = conn.cursor()\n",
    "\n",
    "# Folder containing the CSV files\n",
    "folder_path = 'C:/Users/singh/Downloads/end to end project/ecommerce'\n",
    "\n",
    "def get_sql_type(dtype):\n",
    "    if pd.api.types.is_integer_dtype(dtype):\n",
    "        return 'INT'\n",
    "    elif pd.api.types.is_float_dtype(dtype):\n",
    "        return 'FLOAT'\n",
    "    elif pd.api.types.is_bool_dtype(dtype):\n",
    "        return 'BOOLEAN'\n",
    "    elif pd.api.types.is_datetime64_any_dtype(dtype):\n",
    "        return 'DATETIME'\n",
    "    else:\n",
    "        return 'TEXT'\n",
    "\n",
    "for csv_file, table_name in csv_files:\n",
    "    file_path = os.path.join(folder_path, csv_file)\n",
    "    \n",
    "    # Read the CSV file into a pandas DataFrame\n",
    "    df = pd.read_csv(file_path)\n",
    "    \n",
    "    # Replace NaN with None to handle SQL NULL\n",
    "    df = df.where(pd.notnull(df), None)\n",
    "    \n",
    "    # Debugging: Check for NaN values\n",
    "    print(f\"Processing {csv_file}\")\n",
    "    print(f\"NaN values before replacement:\\n{df.isnull().sum()}\\n\")\n",
    "\n",
    "    # Clean column names\n",
    "    df.columns = [col.replace(' ', '_').replace('-', '_').replace('.', '_') for col in df.columns]\n",
    "\n",
    "    # Generate the CREATE TABLE statement with appropriate data types\n",
    "    columns = ', '.join([f'`{col}` {get_sql_type(df[col].dtype)}' for col in df.columns])\n",
    "    create_table_query = f'CREATE TABLE IF NOT EXISTS `{table_name}` ({columns})'\n",
    "    cursor.execute(create_table_query)\n",
    "\n",
    "    # Insert DataFrame data into the MySQL table\n",
    "    for _, row in df.iterrows():\n",
    "        # Convert row to tuple and handle NaN/None explicitly\n",
    "        values = tuple(None if pd.isna(x) else x for x in row)\n",
    "        sql = f\"INSERT INTO `{table_name}` ({', '.join(['`' + col + '`' for col in df.columns])}) VALUES ({', '.join(['%s'] * len(row))})\"\n",
    "        cursor.execute(sql, values)\n",
    "\n",
    "    # Commit the transaction for the current CSV file\n",
    "    conn.commit()\n",
    "\n",
    "# Close the connection\n",
    "conn.close()"
   ]
  },
  {
   "cell_type": "code",
   "execution_count": 32,
   "id": "8b589b51-2221-43d7-b5a5-cc916a1cdbfd",
   "metadata": {},
   "outputs": [],
   "source": [
    "import pandas as pd\n",
    "import numpy as np\n",
    "import seaborn as sns\n",
    "import matplotlib.pyplot as plt\n",
    "import mysql.connector\n",
    "\n",
    "db = mysql.connector.connect(host=\"localhost\",\n",
    "                             username=\"root\",\n",
    "                             password=\"Ansshi@1432\",\n",
    "                              database=\"ecommerce\" ) \n",
    "cur=db.cursor()\n"
   ]
  },
  {
   "cell_type": "markdown",
   "id": "1795c754-c2c7-4c34-9d3c-749631d509dd",
   "metadata": {},
   "source": [
    "# 1. List all unique cities where customers are located.\n"
   ]
  },
  {
   "cell_type": "code",
   "execution_count": 277,
   "id": "5305d88a-492b-44d5-8093-8898a1f797e3",
   "metadata": {},
   "outputs": [
    {
     "data": {
      "text/html": [
       "<div>\n",
       "<style scoped>\n",
       "    .dataframe tbody tr th:only-of-type {\n",
       "        vertical-align: middle;\n",
       "    }\n",
       "\n",
       "    .dataframe tbody tr th {\n",
       "        vertical-align: top;\n",
       "    }\n",
       "\n",
       "    .dataframe thead th {\n",
       "        text-align: right;\n",
       "    }\n",
       "</style>\n",
       "<table border=\"1\" class=\"dataframe\">\n",
       "  <thead>\n",
       "    <tr style=\"text-align: right;\">\n",
       "      <th></th>\n",
       "      <th>distinct_city_name</th>\n",
       "    </tr>\n",
       "  </thead>\n",
       "  <tbody>\n",
       "    <tr>\n",
       "      <th>0</th>\n",
       "      <td>franca</td>\n",
       "    </tr>\n",
       "    <tr>\n",
       "      <th>1</th>\n",
       "      <td>sao bernardo do campo</td>\n",
       "    </tr>\n",
       "    <tr>\n",
       "      <th>2</th>\n",
       "      <td>sao paulo</td>\n",
       "    </tr>\n",
       "  </tbody>\n",
       "</table>\n",
       "</div>"
      ],
      "text/plain": [
       "      distinct_city_name\n",
       "0                 franca\n",
       "1  sao bernardo do campo\n",
       "2              sao paulo"
      ]
     },
     "execution_count": 277,
     "metadata": {},
     "output_type": "execute_result"
    }
   ],
   "source": [
    "query=\"\"\"select distinct customer_city from customers\"\"\"\n",
    "\n",
    "cur.execute(query)\n",
    "data=cur.fetchall()\n",
    "data\n",
    "df1=pd.DataFrame(data,columns=['distinct_city_name'])\n",
    "df1.head(3)"
   ]
  },
  {
   "cell_type": "markdown",
   "id": "ceb7b396-fc41-47f0-a3a8-d5ca419f69b2",
   "metadata": {},
   "source": [
    "# 2. Count the number of orders placed in 2017.\n"
   ]
  },
  {
   "cell_type": "code",
   "execution_count": 95,
   "id": "a831c8d1-8af9-463a-ab30-3064a5f62736",
   "metadata": {},
   "outputs": [
    {
     "name": "stdout",
     "output_type": "stream",
     "text": [
      "total order placed in 2017 are 45101\n"
     ]
    }
   ],
   "source": [
    "query=\"\"\"select count(*) from orders where year(order_purchase_timestamp)=2017\"\"\"\n",
    "cur.execute(query)\n",
    "\n",
    "data=cur.fetchall()\n",
    "print(f\"total order placed in 2017 are {data[0][0]}\")"
   ]
  },
  {
   "cell_type": "markdown",
   "id": "99a97486-13b7-40ba-88f9-15c2b44b64bd",
   "metadata": {},
   "source": [
    "# 3. Find the total sales per category.\r\n"
   ]
  },
  {
   "cell_type": "code",
   "execution_count": 272,
   "id": "8ff16b13-9d57-405d-ad82-60e6d77779a9",
   "metadata": {},
   "outputs": [
    {
     "data": {
      "text/plain": [
       "category      1\n",
       "sale_value    0\n",
       "dtype: int64"
      ]
     },
     "execution_count": 272,
     "metadata": {},
     "output_type": "execute_result"
    }
   ],
   "source": [
    "query=\"\"\"select upper(products.product_category) as category, round(sum(payments.payment_value),2) as sales\n",
    "from products join order_items on \n",
    "products.product_id=order_items.product_id\n",
    "join payments on payments.order_id=order_items.order_id\n",
    "group by category\"\"\"\n",
    "\n",
    "cur.execute(query)\n",
    "data=cur.fetchall()\n",
    "data\n",
    "df3=pd.DataFrame(data,columns=['category','sale_value'])\n",
    "df3.isnull().sum()"
   ]
  },
  {
   "cell_type": "code",
   "execution_count": 279,
   "id": "79d012bf-617e-493b-8541-153b704e2c35",
   "metadata": {},
   "outputs": [],
   "source": [
    "import warnings\n",
    "warnings.filterwarnings(\"ignore\")\n"
   ]
  },
  {
   "cell_type": "code",
   "execution_count": 283,
   "id": "3b447f01-3133-4107-bacc-c8f6ae9e790e",
   "metadata": {},
   "outputs": [
    {
     "data": {
      "text/html": [
       "<div>\n",
       "<style scoped>\n",
       "    .dataframe tbody tr th:only-of-type {\n",
       "        vertical-align: middle;\n",
       "    }\n",
       "\n",
       "    .dataframe tbody tr th {\n",
       "        vertical-align: top;\n",
       "    }\n",
       "\n",
       "    .dataframe thead th {\n",
       "        text-align: right;\n",
       "    }\n",
       "</style>\n",
       "<table border=\"1\" class=\"dataframe\">\n",
       "  <thead>\n",
       "    <tr style=\"text-align: right;\">\n",
       "      <th></th>\n",
       "      <th>category</th>\n",
       "      <th>sale_value</th>\n",
       "    </tr>\n",
       "  </thead>\n",
       "  <tbody>\n",
       "    <tr>\n",
       "      <th>0</th>\n",
       "      <td>PERFUMERY</td>\n",
       "      <td>506738.66</td>\n",
       "    </tr>\n",
       "    <tr>\n",
       "      <th>1</th>\n",
       "      <td>FURNITURE DECORATION</td>\n",
       "      <td>1430176.39</td>\n",
       "    </tr>\n",
       "    <tr>\n",
       "      <th>2</th>\n",
       "      <td>TELEPHONY</td>\n",
       "      <td>486882.05</td>\n",
       "    </tr>\n",
       "    <tr>\n",
       "      <th>3</th>\n",
       "      <td>FASHION BAGS AND ACCESSORIES</td>\n",
       "      <td>218158.28</td>\n",
       "    </tr>\n",
       "    <tr>\n",
       "      <th>4</th>\n",
       "      <td>BED TABLE BATH</td>\n",
       "      <td>1712553.67</td>\n",
       "    </tr>\n",
       "  </tbody>\n",
       "</table>\n",
       "</div>"
      ],
      "text/plain": [
       "                       category  sale_value\n",
       "0                     PERFUMERY   506738.66\n",
       "1          FURNITURE DECORATION  1430176.39\n",
       "2                     TELEPHONY   486882.05\n",
       "3  FASHION BAGS AND ACCESSORIES   218158.28\n",
       "4                BED TABLE BATH  1712553.67"
      ]
     },
     "execution_count": 283,
     "metadata": {},
     "output_type": "execute_result"
    }
   ],
   "source": [
    "df3['category'].fillna(df3['category'].mode()[0], inplace=True)\n",
    "df3.isnull().sum()\n",
    "df3.head()"
   ]
  },
  {
   "cell_type": "markdown",
   "id": "f36abb46-a066-435d-b9d2-ee6b5a8b40ce",
   "metadata": {},
   "source": [
    " # 4. Calculate the percentage of orders that were paid in installments.\n"
   ]
  },
  {
   "cell_type": "code",
   "execution_count": 286,
   "id": "0c70b3bb-15f2-4145-9f9c-5eee5fad5aaa",
   "metadata": {},
   "outputs": [
    {
     "name": "stdout",
     "output_type": "stream",
     "text": [
      "percentage of order that are paid in installments 99.9981\n"
     ]
    }
   ],
   "source": [
    "query=\"\"\"select (sum(\n",
    "case when payment_installments >=1 then 1 else 0 end ))/count(*)*100  from payments\"\"\"\n",
    "\n",
    "cur.execute(query)\n",
    "data=cur.fetchall()\n",
    "print(f\"percentage of order that are paid in installments {data[0][0]}\")"
   ]
  },
  {
   "cell_type": "markdown",
   "id": "81cbd75e-0407-41ed-a02c-1e1081ac974b",
   "metadata": {},
   "source": [
    "# 5. Count the number of customers from each state. \n"
   ]
  },
  {
   "cell_type": "code",
   "execution_count": 289,
   "id": "e93e0e83-7846-468c-a1d3-411cee14d518",
   "metadata": {},
   "outputs": [
    {
     "data": {
      "image/png": "[encoded data removed]",
      "text/plain": [
       "<Figure size 1000x400 with 1 Axes>"
      ]
     },
     "metadata": {},
     "output_type": "display_data"
    }
   ],
   "source": [
    "query=\"\"\"select customer_state,count(*)as number_of_customer from customers\n",
    "group by customer_state order by number_of_customer desc\"\"\"\n",
    "\n",
    "cur.execute(query)\n",
    "data=cur.fetchall()\n",
    "df5=pd.DataFrame(data,columns=['state_code','num_customer'])\n",
    "\n",
    "plt.figure(figsize=(10,4))\n",
    "plt.bar(df5['state_code'],df5['num_customer'],color='r',width=0.3)\n",
    "plt.xlabel(\"state_name\")\n",
    "plt.ylabel(\"number_of_customer\")\n",
    "plt.xticks(rotation = 90)\n",
    "plt.show()"
   ]
  },
  {
   "cell_type": "markdown",
   "id": "3ba39e5a-4e57-43e2-aebd-11c01cfe7244",
   "metadata": {},
   "source": [
    "# 6. Calculate the number of orders per month in 2018.\n"
   ]
  },
  {
   "cell_type": "code",
   "execution_count": 348,
   "id": "1181dceb-9408-47c4-b2dc-11d5d5422efb",
   "metadata": {},
   "outputs": [
    {
     "data": {
      "image/png": "[encoded data removed]",
      "text/plain": [
       "<Figure size 1200x500 with 1 Axes>"
      ]
     },
     "metadata": {},
     "output_type": "display_data"
    }
   ],
   "source": [
    "import seaborn as sns\n",
    "query=\"\"\" select monthname(order_purchase_timestamp) as month,count(order_id)as order_count from orders where year(order_purchase_timestamp)=2018\n",
    "group by month\"\"\"\n",
    "\n",
    "cur.execute(query)\n",
    "data=cur.fetchall()\n",
    "df6=pd.DataFrame(data,columns=['month','order_count'])\n",
    "o=[\"January\",\"February\",\"March\",\"April\",\"May\",\"June\",\"July\",\"August\",\"September\",\"October\",\"November\",\"December\"]\n",
    "plt.figure(figsize=(12,5))\n",
    "\n",
    "t=sns.barplot(x=df6['month'], y=df6['order_count'], data=df6, order=o,color='b')\n",
    "t.bar_label(t.containers[0])\n",
    "plt.show()\n"
   ]
  },
  {
   "cell_type": "markdown",
   "id": "c90cea39-b155-4a8b-b9cc-525cb0695242",
   "metadata": {},
   "source": [
    "# 7. Find the average number of products per order, grouped by customer city.\n"
   ]
  },
  {
   "cell_type": "code",
   "execution_count": 368,
   "id": "49d0cb20-120c-4367-90a3-3ae7e81a794b",
   "metadata": {},
   "outputs": [
    {
     "data": {
      "text/html": [
       "<div>\n",
       "<style scoped>\n",
       "    .dataframe tbody tr th:only-of-type {\n",
       "        vertical-align: middle;\n",
       "    }\n",
       "\n",
       "    .dataframe tbody tr th {\n",
       "        vertical-align: top;\n",
       "    }\n",
       "\n",
       "    .dataframe thead th {\n",
       "        text-align: right;\n",
       "    }\n",
       "</style>\n",
       "<table border=\"1\" class=\"dataframe\">\n",
       "  <thead>\n",
       "    <tr style=\"text-align: right;\">\n",
       "      <th></th>\n",
       "      <th>city_name</th>\n",
       "      <th>avg_order</th>\n",
       "    </tr>\n",
       "  </thead>\n",
       "  <tbody>\n",
       "    <tr>\n",
       "      <th>0</th>\n",
       "      <td>sao jose dos campos</td>\n",
       "      <td>1.14</td>\n",
       "    </tr>\n",
       "    <tr>\n",
       "      <th>1</th>\n",
       "      <td>indaial</td>\n",
       "      <td>1.12</td>\n",
       "    </tr>\n",
       "    <tr>\n",
       "      <th>2</th>\n",
       "      <td>treze tilias</td>\n",
       "      <td>1.27</td>\n",
       "    </tr>\n",
       "    <tr>\n",
       "      <th>3</th>\n",
       "      <td>sao paulo</td>\n",
       "      <td>1.16</td>\n",
       "    </tr>\n",
       "    <tr>\n",
       "      <th>4</th>\n",
       "      <td>rio de janeiro</td>\n",
       "      <td>1.15</td>\n",
       "    </tr>\n",
       "    <tr>\n",
       "      <th>...</th>\n",
       "      <td>...</td>\n",
       "      <td>...</td>\n",
       "    </tr>\n",
       "    <tr>\n",
       "      <th>4105</th>\n",
       "      <td>buriti</td>\n",
       "      <td>3.00</td>\n",
       "    </tr>\n",
       "    <tr>\n",
       "      <th>4106</th>\n",
       "      <td>morro agudo de goias</td>\n",
       "      <td>1.00</td>\n",
       "    </tr>\n",
       "    <tr>\n",
       "      <th>4107</th>\n",
       "      <td>santa filomena</td>\n",
       "      <td>1.00</td>\n",
       "    </tr>\n",
       "    <tr>\n",
       "      <th>4108</th>\n",
       "      <td>guamiranga</td>\n",
       "      <td>1.00</td>\n",
       "    </tr>\n",
       "    <tr>\n",
       "      <th>4109</th>\n",
       "      <td>padre paraiso</td>\n",
       "      <td>1.00</td>\n",
       "    </tr>\n",
       "  </tbody>\n",
       "</table>\n",
       "<p>4110 rows × 2 columns</p>\n",
       "</div>"
      ],
      "text/plain": [
       "                 city_name avg_order\n",
       "0      sao jose dos campos      1.14\n",
       "1                  indaial      1.12\n",
       "2             treze tilias      1.27\n",
       "3                sao paulo      1.16\n",
       "4           rio de janeiro      1.15\n",
       "...                    ...       ...\n",
       "4105                buriti      3.00\n",
       "4106  morro agudo de goias      1.00\n",
       "4107        santa filomena      1.00\n",
       "4108            guamiranga      1.00\n",
       "4109         padre paraiso      1.00\n",
       "\n",
       "[4110 rows x 2 columns]"
      ]
     },
     "execution_count": 368,
     "metadata": {},
     "output_type": "execute_result"
    }
   ],
   "source": [
    "query=\"\"\"with count_per_order as (select orders.order_id,orders.customer_id, count(order_items.order_id) as oc\n",
    "from orders join order_items on\n",
    "orders.order_id=order_items.order_id\n",
    "group by orders.order_id,orders.customer_id)\n",
    "\n",
    "select customers.customer_city,round(avg(count_per_order.oc),2) as avg_order_product\n",
    "from customers join count_per_order on\n",
    "customers.customer_id=count_per_order.customer_id\n",
    "group by customers.customer_city \"\"\"\n",
    "\n",
    "\n",
    "cur.execute(query)\n",
    "data=cur.fetchall()\n",
    "\n",
    "df7=pd.DataFrame(data,columns=['city_name','avg_order'])\n",
    "df7"
   ]
  },
  {
   "cell_type": "markdown",
   "id": "73e9ad84-56de-4277-ba37-0b82938df17d",
   "metadata": {},
   "source": [
    "# 8. Calculate the percentage of total revenue contributed by each product category.\n"
   ]
  },
  {
   "cell_type": "code",
   "execution_count": 378,
   "id": "bee89593-2d2b-41fa-bf2c-08f2b5852f6c",
   "metadata": {},
   "outputs": [
    {
     "data": {
      "text/html": [
       "<div>\n",
       "<style scoped>\n",
       "    .dataframe tbody tr th:only-of-type {\n",
       "        vertical-align: middle;\n",
       "    }\n",
       "\n",
       "    .dataframe tbody tr th {\n",
       "        vertical-align: top;\n",
       "    }\n",
       "\n",
       "    .dataframe thead th {\n",
       "        text-align: right;\n",
       "    }\n",
       "</style>\n",
       "<table border=\"1\" class=\"dataframe\">\n",
       "  <thead>\n",
       "    <tr style=\"text-align: right;\">\n",
       "      <th></th>\n",
       "      <th>product_category</th>\n",
       "      <th>percentage_revenue</th>\n",
       "    </tr>\n",
       "  </thead>\n",
       "  <tbody>\n",
       "    <tr>\n",
       "      <th>0</th>\n",
       "      <td>bed table bath</td>\n",
       "      <td>10.70</td>\n",
       "    </tr>\n",
       "    <tr>\n",
       "      <th>1</th>\n",
       "      <td>HEALTH BEAUTY</td>\n",
       "      <td>10.35</td>\n",
       "    </tr>\n",
       "    <tr>\n",
       "      <th>2</th>\n",
       "      <td>computer accessories</td>\n",
       "      <td>9.90</td>\n",
       "    </tr>\n",
       "    <tr>\n",
       "      <th>3</th>\n",
       "      <td>Furniture Decoration</td>\n",
       "      <td>8.93</td>\n",
       "    </tr>\n",
       "    <tr>\n",
       "      <th>4</th>\n",
       "      <td>Watches present</td>\n",
       "      <td>8.93</td>\n",
       "    </tr>\n",
       "  </tbody>\n",
       "</table>\n",
       "</div>"
      ],
      "text/plain": [
       "       product_category  percentage_revenue\n",
       "0        bed table bath               10.70\n",
       "1         HEALTH BEAUTY               10.35\n",
       "2  computer accessories                9.90\n",
       "3  Furniture Decoration                8.93\n",
       "4       Watches present                8.93"
      ]
     },
     "execution_count": 378,
     "metadata": {},
     "output_type": "execute_result"
    }
   ],
   "source": [
    "query=\"\"\"select products.product_category as category, round((sum(payments.payment_value)/(select sum(payment_value) from payments))*100,2) as sales\n",
    "from products join order_items on \n",
    "products.product_id=order_items.product_id\n",
    "join payments on payments.order_id=order_items.order_id\n",
    "group by category\n",
    "order by sales desc;\n",
    "\"\"\"\n",
    "\n",
    "cur.execute(query)\n",
    "data=cur.fetchall()\n",
    "df8=pd.DataFrame(data,columns=['product_category','percentage_revenue'])\n",
    "df8.head()\n"
   ]
  },
  {
   "cell_type": "markdown",
   "id": "ed374260-e7da-48c4-ac50-d9f5aed2d5c5",
   "metadata": {},
   "source": [
    "# 9. Identify the correlation between product price and the number of times a product has been purchased.\n"
   ]
  },
  {
   "cell_type": "code",
   "execution_count": 389,
   "id": "fd06727a-371d-490f-9072-3ec3b1af8486",
   "metadata": {},
   "outputs": [
    {
     "data": {
      "text/html": [
       "<div>\n",
       "<style scoped>\n",
       "    .dataframe tbody tr th:only-of-type {\n",
       "        vertical-align: middle;\n",
       "    }\n",
       "\n",
       "    .dataframe tbody tr th {\n",
       "        vertical-align: top;\n",
       "    }\n",
       "\n",
       "    .dataframe thead th {\n",
       "        text-align: right;\n",
       "    }\n",
       "</style>\n",
       "<table border=\"1\" class=\"dataframe\">\n",
       "  <thead>\n",
       "    <tr style=\"text-align: right;\">\n",
       "      <th></th>\n",
       "      <th>product_category</th>\n",
       "      <th>order_count</th>\n",
       "      <th>avg_price</th>\n",
       "    </tr>\n",
       "  </thead>\n",
       "  <tbody>\n",
       "    <tr>\n",
       "      <th>0</th>\n",
       "      <td>HEALTH BEAUTY</td>\n",
       "      <td>9670</td>\n",
       "      <td>130.16</td>\n",
       "    </tr>\n",
       "    <tr>\n",
       "      <th>1</th>\n",
       "      <td>sport leisure</td>\n",
       "      <td>8641</td>\n",
       "      <td>114.34</td>\n",
       "    </tr>\n",
       "    <tr>\n",
       "      <th>2</th>\n",
       "      <td>Cool Stuff</td>\n",
       "      <td>3796</td>\n",
       "      <td>167.36</td>\n",
       "    </tr>\n",
       "    <tr>\n",
       "      <th>3</th>\n",
       "      <td>computer accessories</td>\n",
       "      <td>7827</td>\n",
       "      <td>116.51</td>\n",
       "    </tr>\n",
       "    <tr>\n",
       "      <th>4</th>\n",
       "      <td>Watches present</td>\n",
       "      <td>5991</td>\n",
       "      <td>201.14</td>\n",
       "    </tr>\n",
       "  </tbody>\n",
       "</table>\n",
       "</div>"
      ],
      "text/plain": [
       "       product_category  order_count  avg_price\n",
       "0         HEALTH BEAUTY         9670     130.16\n",
       "1         sport leisure         8641     114.34\n",
       "2            Cool Stuff         3796     167.36\n",
       "3  computer accessories         7827     116.51\n",
       "4       Watches present         5991     201.14"
      ]
     },
     "execution_count": 389,
     "metadata": {},
     "output_type": "execute_result"
    }
   ],
   "source": [
    "query=\"\"\"select products.product_category,count(order_items.product_id)as number_of_order_placed,round(avg(order_items.price),2)as avg_price from products join\n",
    "order_items on\n",
    "products.product_id=order_items.product_id\n",
    "group by products.product_category;\"\"\"\n",
    "\n",
    "cur.execute(query)\n",
    "data=cur.fetchall()\n",
    "df9=pd.DataFrame(data,columns=['product_category','order_count','avg_price'])\n",
    "df9.head()"
   ]
  },
  {
   "cell_type": "code",
   "execution_count": 395,
   "id": "993cca88-9d22-49a9-bd9f-86ce56e7d787",
   "metadata": {},
   "outputs": [
    {
     "data": {
      "image/png": "[encoded data removed]",
      "text/plain": [
       "<Figure size 640x480 with 1 Axes>"
      ]
     },
     "metadata": {},
     "output_type": "display_data"
    }
   ],
   "source": [
    "x=df9[['order_count']]\n",
    "y=df9['avg_price']\n",
    "sns.scatterplot(x='order_count',y='avg_price',data=df9)\n",
    "plt.show()"
   ]
  },
  {
   "cell_type": "code",
   "execution_count": 401,
   "id": "ad5e7f62-cc48-4a67-9f86-de79040feaa4",
   "metadata": {},
   "outputs": [
    {
     "data": {
      "text/plain": [
       "<seaborn.axisgrid.PairGrid at 0x15bc2fb6300>"
      ]
     },
     "execution_count": 401,
     "metadata": {},
     "output_type": "execute_result"
    },
    {
     "data": {
      "image/png": "[encoded data removed]",
      "text/plain": [
       "<Figure size 500x500 with 6 Axes>"
      ]
     },
     "metadata": {},
     "output_type": "display_data"
    }
   ],
   "source": [
    "sns.pairplot(df9)"
   ]
  },
  {
   "cell_type": "markdown",
   "id": "b4f90f10-d823-40b2-b69a-f10fc3146d47",
   "metadata": {},
   "source": [
    "# 10. Calculate the total revenue generated by each seller, and rank them by revenue.\n"
   ]
  },
  {
   "cell_type": "code",
   "execution_count": 436,
   "id": "5722b4fd-eb2c-4f95-88bb-4fdc66145f4e",
   "metadata": {},
   "outputs": [
    {
     "name": "stdout",
     "output_type": "stream",
     "text": [
      "Total number of rows is 3095\n"
     ]
    },
    {
     "data": {
      "text/html": [
       "<div>\n",
       "<style scoped>\n",
       "    .dataframe tbody tr th:only-of-type {\n",
       "        vertical-align: middle;\n",
       "    }\n",
       "\n",
       "    .dataframe tbody tr th {\n",
       "        vertical-align: top;\n",
       "    }\n",
       "\n",
       "    .dataframe thead th {\n",
       "        text-align: right;\n",
       "    }\n",
       "</style>\n",
       "<table border=\"1\" class=\"dataframe\">\n",
       "  <thead>\n",
       "    <tr style=\"text-align: right;\">\n",
       "      <th></th>\n",
       "      <th>seller_id</th>\n",
       "      <th>revenue</th>\n",
       "      <th>rank</th>\n",
       "    </tr>\n",
       "  </thead>\n",
       "  <tbody>\n",
       "    <tr>\n",
       "      <th>0</th>\n",
       "      <td>7c67e1448b00f6e969d365cea6b010ab</td>\n",
       "      <td>507166.91</td>\n",
       "      <td>1</td>\n",
       "    </tr>\n",
       "    <tr>\n",
       "      <th>1</th>\n",
       "      <td>1025f0e2d44d7041d6cf58b6550e0bfa</td>\n",
       "      <td>308222.04</td>\n",
       "      <td>2</td>\n",
       "    </tr>\n",
       "    <tr>\n",
       "      <th>2</th>\n",
       "      <td>4a3ca9315b744ce9f8e9374361493884</td>\n",
       "      <td>301245.27</td>\n",
       "      <td>3</td>\n",
       "    </tr>\n",
       "    <tr>\n",
       "      <th>3</th>\n",
       "      <td>1f50f920176fa81dab994f9023523100</td>\n",
       "      <td>290253.42</td>\n",
       "      <td>4</td>\n",
       "    </tr>\n",
       "    <tr>\n",
       "      <th>4</th>\n",
       "      <td>53243585a1d6dc2643021fd1853d8905</td>\n",
       "      <td>284903.08</td>\n",
       "      <td>5</td>\n",
       "    </tr>\n",
       "  </tbody>\n",
       "</table>\n",
       "</div>"
      ],
      "text/plain": [
       "                          seller_id    revenue  rank\n",
       "0  7c67e1448b00f6e969d365cea6b010ab  507166.91     1\n",
       "1  1025f0e2d44d7041d6cf58b6550e0bfa  308222.04     2\n",
       "2  4a3ca9315b744ce9f8e9374361493884  301245.27     3\n",
       "3  1f50f920176fa81dab994f9023523100  290253.42     4\n",
       "4  53243585a1d6dc2643021fd1853d8905  284903.08     5"
      ]
     },
     "execution_count": 436,
     "metadata": {},
     "output_type": "execute_result"
    }
   ],
   "source": [
    "query=\"\"\"select*,dense_rank() over (order by revenue desc)as Ranks from\n",
    "(select order_items.seller_id,round(sum(payments.payment_value),2) as revenue from payments\n",
    " join  order_items on\n",
    " payments.order_id=order_items.order_id\n",
    " group by seller_id)as a;\"\"\"\n",
    "\n",
    "cur.execute(query)\n",
    "data=cur.fetchall()\n",
    "df10=pd.DataFrame(data,columns=['seller_id','revenue','rank'])\n",
    "print(f\"Total number of rows is {df10.shape[0]}\")\n",
    "\n",
    "df10.head()"
   ]
  },
  {
   "cell_type": "markdown",
   "id": "fc7ad4a8-7374-4681-a014-4ebd5d02cb9d",
   "metadata": {},
   "source": [
    "# 11. Calculate the moving average of order values for each customer over their order history.\n"
   ]
  },
  {
   "cell_type": "code",
   "execution_count": 452,
   "id": "bca13b59-c392-46a1-b384-904454aecaf1",
   "metadata": {},
   "outputs": [
    {
     "name": "stdout",
     "output_type": "stream",
     "text": [
      "The number of rows103886 and the number of columns is 4\n",
      "\n"
     ]
    },
    {
     "data": {
      "text/html": [
       "<div>\n",
       "<style scoped>\n",
       "    .dataframe tbody tr th:only-of-type {\n",
       "        vertical-align: middle;\n",
       "    }\n",
       "\n",
       "    .dataframe tbody tr th {\n",
       "        vertical-align: top;\n",
       "    }\n",
       "\n",
       "    .dataframe thead th {\n",
       "        text-align: right;\n",
       "    }\n",
       "</style>\n",
       "<table border=\"1\" class=\"dataframe\">\n",
       "  <thead>\n",
       "    <tr style=\"text-align: right;\">\n",
       "      <th></th>\n",
       "      <th>customer_id</th>\n",
       "      <th>purchase_date_time</th>\n",
       "      <th>payment</th>\n",
       "      <th>moving_avg</th>\n",
       "    </tr>\n",
       "  </thead>\n",
       "  <tbody>\n",
       "    <tr>\n",
       "      <th>0</th>\n",
       "      <td>00012a2ce6f8dcda20d059ce98491703</td>\n",
       "      <td>2017-11-14 16:08:26</td>\n",
       "      <td>114.74</td>\n",
       "      <td>114.739998</td>\n",
       "    </tr>\n",
       "    <tr>\n",
       "      <th>1</th>\n",
       "      <td>000161a058600d5901f007fab4c27140</td>\n",
       "      <td>2017-07-16 09:40:32</td>\n",
       "      <td>67.41</td>\n",
       "      <td>67.410004</td>\n",
       "    </tr>\n",
       "    <tr>\n",
       "      <th>2</th>\n",
       "      <td>0001fd6190edaaf884bcaf3d49edf079</td>\n",
       "      <td>2017-02-28 11:06:43</td>\n",
       "      <td>195.42</td>\n",
       "      <td>195.419998</td>\n",
       "    </tr>\n",
       "    <tr>\n",
       "      <th>3</th>\n",
       "      <td>0002414f95344307404f0ace7a26f1d5</td>\n",
       "      <td>2017-08-16 13:09:20</td>\n",
       "      <td>179.35</td>\n",
       "      <td>179.350006</td>\n",
       "    </tr>\n",
       "    <tr>\n",
       "      <th>4</th>\n",
       "      <td>000379cdec625522490c315e70c7a9fb</td>\n",
       "      <td>2018-04-02 13:42:17</td>\n",
       "      <td>107.01</td>\n",
       "      <td>107.010002</td>\n",
       "    </tr>\n",
       "  </tbody>\n",
       "</table>\n",
       "</div>"
      ],
      "text/plain": [
       "                        customer_id   purchase_date_time  payment  moving_avg\n",
       "0  00012a2ce6f8dcda20d059ce98491703  2017-11-14 16:08:26   114.74  114.739998\n",
       "1  000161a058600d5901f007fab4c27140  2017-07-16 09:40:32    67.41   67.410004\n",
       "2  0001fd6190edaaf884bcaf3d49edf079  2017-02-28 11:06:43   195.42  195.419998\n",
       "3  0002414f95344307404f0ace7a26f1d5  2017-08-16 13:09:20   179.35  179.350006\n",
       "4  000379cdec625522490c315e70c7a9fb  2018-04-02 13:42:17   107.01  107.010002"
      ]
     },
     "execution_count": 452,
     "metadata": {},
     "output_type": "execute_result"
    }
   ],
   "source": [
    "query=\"\"\" select customer_id,order_purchase_timestamp,payment,avg(payment) over(partition by customer_id\n",
    " order by order_purchase_timestamp\n",
    " rows between 2 preceding and current row)as moving_avg from\n",
    " (select orders.customer_id,orders.order_purchase_timestamp, payments.payment_value as payment\n",
    " from payments join orders on\n",
    " payments.order_id=orders.order_id)as an;\"\"\"\n",
    "\n",
    "\n",
    "cur.execute(query)\n",
    "data=cur.fetchall()\n",
    "df11=pd.DataFrame(data,columns=['customer_id','purchase_date_time','payment','moving_avg'])\n",
    "print(f\"The number of rows{df11.shape[0]} and the number of columns is {df11.shape[1]}\\n\")\n",
    "df11.head(5)"
   ]
  },
  {
   "cell_type": "markdown",
   "id": "2d93c856-cb31-4da6-8d83-60969f1368ae",
   "metadata": {},
   "source": [
    "# 12. Calculate the cumulative sales per month for each year.\n"
   ]
  },
  {
   "cell_type": "code",
   "execution_count": 458,
   "id": "5b460541-bd6f-4ad1-ae79-c35d2aebdde9",
   "metadata": {},
   "outputs": [
    {
     "data": {
      "text/html": [
       "<div>\n",
       "<style scoped>\n",
       "    .dataframe tbody tr th:only-of-type {\n",
       "        vertical-align: middle;\n",
       "    }\n",
       "\n",
       "    .dataframe tbody tr th {\n",
       "        vertical-align: top;\n",
       "    }\n",
       "\n",
       "    .dataframe thead th {\n",
       "        text-align: right;\n",
       "    }\n",
       "</style>\n",
       "<table border=\"1\" class=\"dataframe\">\n",
       "  <thead>\n",
       "    <tr style=\"text-align: right;\">\n",
       "      <th></th>\n",
       "      <th>year</th>\n",
       "      <th>month</th>\n",
       "      <th>sale_value</th>\n",
       "      <th>cumulative_sale_value</th>\n",
       "    </tr>\n",
       "  </thead>\n",
       "  <tbody>\n",
       "    <tr>\n",
       "      <th>0</th>\n",
       "      <td>2016</td>\n",
       "      <td>9</td>\n",
       "      <td>252.24</td>\n",
       "      <td>252.24</td>\n",
       "    </tr>\n",
       "    <tr>\n",
       "      <th>1</th>\n",
       "      <td>2016</td>\n",
       "      <td>10</td>\n",
       "      <td>59090.48</td>\n",
       "      <td>59342.72</td>\n",
       "    </tr>\n",
       "    <tr>\n",
       "      <th>2</th>\n",
       "      <td>2016</td>\n",
       "      <td>12</td>\n",
       "      <td>19.62</td>\n",
       "      <td>59362.34</td>\n",
       "    </tr>\n",
       "    <tr>\n",
       "      <th>3</th>\n",
       "      <td>2017</td>\n",
       "      <td>1</td>\n",
       "      <td>138488.04</td>\n",
       "      <td>197850.38</td>\n",
       "    </tr>\n",
       "    <tr>\n",
       "      <th>4</th>\n",
       "      <td>2017</td>\n",
       "      <td>2</td>\n",
       "      <td>291908.01</td>\n",
       "      <td>489758.39</td>\n",
       "    </tr>\n",
       "  </tbody>\n",
       "</table>\n",
       "</div>"
      ],
      "text/plain": [
       "   year  month  sale_value  cumulative_sale_value\n",
       "0  2016      9      252.24                 252.24\n",
       "1  2016     10    59090.48               59342.72\n",
       "2  2016     12       19.62               59362.34\n",
       "3  2017      1   138488.04              197850.38\n",
       "4  2017      2   291908.01              489758.39"
      ]
     },
     "execution_count": 458,
     "metadata": {},
     "output_type": "execute_result"
    }
   ],
   "source": [
    "query=\"\"\"select years,months,payment,sum(payment)over(order by years,months)as cumulative_sales from\n",
    " (select year(orders.order_purchase_timestamp)as years,month(orders.order_purchase_timestamp) as months,\n",
    " round(sum(payments.payment_value),2) as payment from orders join payments on\n",
    " orders.order_id=payments.order_id\n",
    " group by years,months order by years,months) as n; \"\"\"\n",
    "\n",
    "cur.execute(query)\n",
    "data=cur.fetchall()\n",
    "df12=pd.DataFrame(data,columns=['year','month','sale_value','cumulative_sale_value'])\n",
    "df12.head()\n"
   ]
  },
  {
   "cell_type": "markdown",
   "id": "02829b87-85e5-4002-9f9a-23cbbb112ce7",
   "metadata": {},
   "source": [
    "# 13. Calculate the year-over-year growth rate of total sales.\r\n"
   ]
  },
  {
   "cell_type": "code",
   "execution_count": 470,
   "id": "48dc037f-cc7f-4310-8294-5773c8f14336",
   "metadata": {},
   "outputs": [
    {
     "data": {
      "text/html": [
       "<div>\n",
       "<style scoped>\n",
       "    .dataframe tbody tr th:only-of-type {\n",
       "        vertical-align: middle;\n",
       "    }\n",
       "\n",
       "    .dataframe tbody tr th {\n",
       "        vertical-align: top;\n",
       "    }\n",
       "\n",
       "    .dataframe thead th {\n",
       "        text-align: right;\n",
       "    }\n",
       "</style>\n",
       "<table border=\"1\" class=\"dataframe\">\n",
       "  <thead>\n",
       "    <tr style=\"text-align: right;\">\n",
       "      <th></th>\n",
       "      <th>year</th>\n",
       "      <th>payment</th>\n",
       "      <th>YOY_growth%(Y=YEAR)</th>\n",
       "    </tr>\n",
       "  </thead>\n",
       "  <tbody>\n",
       "    <tr>\n",
       "      <th>0</th>\n",
       "      <td>2016</td>\n",
       "      <td>59362.34</td>\n",
       "      <td>NaN</td>\n",
       "    </tr>\n",
       "    <tr>\n",
       "      <th>1</th>\n",
       "      <td>2017</td>\n",
       "      <td>7249746.73</td>\n",
       "      <td>12112.7</td>\n",
       "    </tr>\n",
       "    <tr>\n",
       "      <th>2</th>\n",
       "      <td>2018</td>\n",
       "      <td>8699763.05</td>\n",
       "      <td>20.0</td>\n",
       "    </tr>\n",
       "  </tbody>\n",
       "</table>\n",
       "</div>"
      ],
      "text/plain": [
       "   year     payment  YOY_growth%(Y=YEAR)\n",
       "0  2016    59362.34                  NaN\n",
       "1  2017  7249746.73              12112.7\n",
       "2  2018  8699763.05                 20.0"
      ]
     },
     "execution_count": 470,
     "metadata": {},
     "output_type": "execute_result"
    }
   ],
   "source": [
    "query=\"\"\"with a as (select year(orders.order_purchase_timestamp)as years,\n",
    " round(sum(payments.payment_value),2) as payment from orders join payments on\n",
    " orders.order_id=payments.order_id\n",
    " group by years order by years)\n",
    " select years,payment,\n",
    " round(((payment-lag(payment,1) over(order by years))/ lag(payment,1) over(order by years))*100,2) as yoy__growth\n",
    " from a;\"\"\"\n",
    "cur.execute(query)\n",
    "data=cur.fetchall()\n",
    "df13=pd.DataFrame(data,columns=['year','payment','YOY_growth%(Y=YEAR)'])\n",
    "df13"
   ]
  },
  {
   "cell_type": "markdown",
   "id": "bc56761b-0f93-4a72-9ab4-58cfd4117821",
   "metadata": {},
   "source": [
    "# 14. Calculate the retention rate of customers, defined as the percentage of customers who make another purchase within 6 months of their first purchase.\n"
   ]
  },
  {
   "cell_type": "code",
   "execution_count": null,
   "id": "5d9b426e-4eab-4a1e-b082-84e1adf4ea56",
   "metadata": {},
   "outputs": [],
   "source": []
  },
  {
   "cell_type": "code",
   "execution_count": 496,
   "id": "85a0f7b6-7fd9-45be-b0e5-670ebc22b186",
   "metadata": {},
   "outputs": [
    {
     "name": "stdout",
     "output_type": "stream",
     "text": [
      "retention rate of customer is (None,)\n"
     ]
    }
   ],
   "source": [
    "query=\"\"\"with a as(select customers.customer_id,min(orders.order_purchase_timestamp)as first_order from customers join orders on\n",
    "customers.customer_id=orders.customer_id\n",
    "group by customers.customer_id),\n",
    "b as (select a.customer_id,count(distinct orders.order_purchase_timestamp)as next_order from a join orders on\n",
    " orders.customer_id=a.customer_id\n",
    "and orders.order_purchase_timestamp > first_order\n",
    "and orders.order_purchase_timestamp < date_add(first_order,interval 6 month)\n",
    "group by a.customer_id)\n",
    "\n",
    "select 100*(count(distinct a.customer_id)/count(distinct b.customer_id)) as retention_rate\n",
    "from a left join b on\n",
    "a.customer_id=b.customer_id;\"\"\"\n",
    "\n",
    "cur.execute(query)\n",
    "data=cur.fetchall()\n",
    "print(f\"retention rate of customer is {data[0]}\")"
   ]
  },
  {
   "cell_type": "markdown",
   "id": "f3bec57e-f75a-4921-aa3d-c0c2a8ee77cf",
   "metadata": {},
   "source": [
    "# 15. Identify the top 3 customers who spent the most money in each year."
   ]
  },
  {
   "cell_type": "code",
   "execution_count": 505,
   "id": "b713f920-2d39-48ef-8dba-10679d7be71f",
   "metadata": {},
   "outputs": [
    {
     "data": {
      "text/html": [
       "<div>\n",
       "<style scoped>\n",
       "    .dataframe tbody tr th:only-of-type {\n",
       "        vertical-align: middle;\n",
       "    }\n",
       "\n",
       "    .dataframe tbody tr th {\n",
       "        vertical-align: top;\n",
       "    }\n",
       "\n",
       "    .dataframe thead th {\n",
       "        text-align: right;\n",
       "    }\n",
       "</style>\n",
       "<table border=\"1\" class=\"dataframe\">\n",
       "  <thead>\n",
       "    <tr style=\"text-align: right;\">\n",
       "      <th></th>\n",
       "      <th>year</th>\n",
       "      <th>customer_id</th>\n",
       "      <th>payment</th>\n",
       "      <th>rank</th>\n",
       "    </tr>\n",
       "  </thead>\n",
       "  <tbody>\n",
       "    <tr>\n",
       "      <th>0</th>\n",
       "      <td>2016</td>\n",
       "      <td>a9dc96b027d1252bbac0a9b72d837fc6</td>\n",
       "      <td>1423.55</td>\n",
       "      <td>1</td>\n",
       "    </tr>\n",
       "    <tr>\n",
       "      <th>1</th>\n",
       "      <td>2016</td>\n",
       "      <td>1d34ed25963d5aae4cf3d7f3a4cda173</td>\n",
       "      <td>1400.74</td>\n",
       "      <td>2</td>\n",
       "    </tr>\n",
       "    <tr>\n",
       "      <th>2</th>\n",
       "      <td>2016</td>\n",
       "      <td>4a06381959b6670756de02e07b83815f</td>\n",
       "      <td>1227.78</td>\n",
       "      <td>3</td>\n",
       "    </tr>\n",
       "    <tr>\n",
       "      <th>3</th>\n",
       "      <td>2017</td>\n",
       "      <td>1617b1357756262bfa56ab541c47bc16</td>\n",
       "      <td>13664.08</td>\n",
       "      <td>1</td>\n",
       "    </tr>\n",
       "    <tr>\n",
       "      <th>4</th>\n",
       "      <td>2017</td>\n",
       "      <td>c6e2731c5b391845f6800c97401a43a9</td>\n",
       "      <td>6929.31</td>\n",
       "      <td>2</td>\n",
       "    </tr>\n",
       "    <tr>\n",
       "      <th>5</th>\n",
       "      <td>2017</td>\n",
       "      <td>3fd6777bbce08a352fddd04e4a7cc8f6</td>\n",
       "      <td>6726.66</td>\n",
       "      <td>3</td>\n",
       "    </tr>\n",
       "    <tr>\n",
       "      <th>6</th>\n",
       "      <td>2018</td>\n",
       "      <td>ec5b2ba62e574342386871631fafd3fc</td>\n",
       "      <td>7274.88</td>\n",
       "      <td>1</td>\n",
       "    </tr>\n",
       "    <tr>\n",
       "      <th>7</th>\n",
       "      <td>2018</td>\n",
       "      <td>f48d464a0baaea338cb25f816991ab1f</td>\n",
       "      <td>6922.21</td>\n",
       "      <td>2</td>\n",
       "    </tr>\n",
       "    <tr>\n",
       "      <th>8</th>\n",
       "      <td>2018</td>\n",
       "      <td>e0a2412720e9ea4f26c1ac985f6a7358</td>\n",
       "      <td>4809.44</td>\n",
       "      <td>3</td>\n",
       "    </tr>\n",
       "  </tbody>\n",
       "</table>\n",
       "</div>"
      ],
      "text/plain": [
       "   year                       customer_id   payment  rank\n",
       "0  2016  a9dc96b027d1252bbac0a9b72d837fc6   1423.55     1\n",
       "1  2016  1d34ed25963d5aae4cf3d7f3a4cda173   1400.74     2\n",
       "2  2016  4a06381959b6670756de02e07b83815f   1227.78     3\n",
       "3  2017  1617b1357756262bfa56ab541c47bc16  13664.08     1\n",
       "4  2017  c6e2731c5b391845f6800c97401a43a9   6929.31     2\n",
       "5  2017  3fd6777bbce08a352fddd04e4a7cc8f6   6726.66     3\n",
       "6  2018  ec5b2ba62e574342386871631fafd3fc   7274.88     1\n",
       "7  2018  f48d464a0baaea338cb25f816991ab1f   6922.21     2\n",
       "8  2018  e0a2412720e9ea4f26c1ac985f6a7358   4809.44     3"
      ]
     },
     "execution_count": 505,
     "metadata": {},
     "output_type": "execute_result"
    }
   ],
   "source": [
    "query=\"\"\"with ranked_customer as(select years,customer_id,payment,dense_rank() over(partition by years order by payment desc) as d_rank from\n",
    "(select year(orders.order_purchase_timestamp)as years,orders.customer_id,\n",
    "round(sum(payments.payment_value),2)as payment from orders join payments on\n",
    "orders.order_id=payments.order_id\n",
    "group by years,orders.customer_id) as a)\n",
    " \n",
    " select*from ranked_customer where d_rank<=3;\"\"\"\n",
    "\n",
    "cur.execute(query)\n",
    "data=cur.fetchall()\n",
    "df15=pd.DataFrame(data,columns=['year','customer_id','payment','rank'])\n",
    "df15"
   ]
  },
  {
   "cell_type": "code",
   "execution_count": null,
   "id": "75c63328-4dbe-4e76-a45e-686971179230",
   "metadata": {},
   "outputs": [],
   "source": []
  }
 ],
 "metadata": {
  "kernelspec": {
   "display_name": "Python [conda env:base] *",
   "language": "python",
   "name": "conda-base-py"
  },
  "language_info": {
   "codemirror_mode": {
    "name": "ipython",
    "version": 3
   },
   "file_extension": ".py",
   "mimetype": "text/x-python",
   "name": "python",
   "nbconvert_exporter": "python",
   "pygments_lexer": "ipython3",
   "version": "3.12.7"
  }
 },
 "nbformat": 4,
 "nbformat_minor": 5
}
